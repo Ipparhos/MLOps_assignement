{
 "cells": [
  {
   "cell_type": "code",
   "execution_count": 1,
   "id": "459067da-affc-47ff-8bf0-4f2114c780e9",
   "metadata": {},
   "outputs": [],
   "source": [
    "from pyspark.sql import SparkSession\n",
    "from pyspark.context import SparkContext\n",
    "from pyspark.sql.functions import col, dayofmonth, month, year\n",
    "from pyspark.ml.feature import OneHotEncoder, StringIndexer\n",
    "from pyspark.sql.types import DateType\n",
    "sc = SparkContext('local', 'test')\n",
    "master_url = \"spark://spark-master:7077\"\n",
    "spark = SparkSession \\\n",
    "    .builder \\\n",
    "    .appName(\"AppName\") \\\n",
    "    .master(master_url) \\\n",
    "    .getOrCreate()"
   ]
  },
  {
   "cell_type": "code",
   "execution_count": 2,
   "id": "fe72a9f6-a00e-4677-b0d7-7552fdfdacb7",
   "metadata": {},
   "outputs": [
    {
     "data": {
      "text/plain": [
       "DataFrame[1: int]"
      ]
     },
     "execution_count": 2,
     "metadata": {},
     "output_type": "execute_result"
    }
   ],
   "source": [
    "spark.sql(\"SELECT 1\")"
   ]
  },
  {
   "cell_type": "code",
   "execution_count": 3,
   "id": "2ff2dbc5-eeb3-4993-a5a8-28b7d210644c",
   "metadata": {},
   "outputs": [],
   "source": [
    "df = spark.read.csv(\"cvas_data.csv\", header=True, inferSchema=True)"
   ]
  },
  {
   "cell_type": "code",
   "execution_count": 4,
   "id": "1f96e3c5-4803-4471-9b29-a0c639c8dede",
   "metadata": {},
   "outputs": [
    {
     "name": "stdout",
     "output_type": "stream",
     "text": [
      "StructType([StructField('customer_ID', IntegerType(), True), StructField('loan_date', StringType(), True), StructField('amount', IntegerType(), True), StructField('fee', IntegerType(), True), StructField('loan_status', IntegerType(), True), StructField('term', StringType(), True), StructField('annual_income', IntegerType(), True)])\n",
      "+-----------+----------+------+---+-----------+-----+-------------+\n",
      "|customer_ID| loan_date|amount|fee|loan_status| term|annual_income|\n",
      "+-----------+----------+------+---+-----------+-----+-------------+\n",
      "|        124|23/06/2021|   785|173|          0|short|        69246|\n",
      "|        125|  2/3/2020|  2626|124|          0|short|        77110|\n",
      "|        296|17/08/2020|  2003| 24|          0|short|        41557|\n",
      "|        447|18/12/2019|   438|168|          1| long|        62868|\n",
      "|        451|  9/1/2020|   284|169|          1|short|        51834|\n",
      "|        467| 9/10/2020|  2995|140|          0| long|        69972|\n",
      "|        467|26/04/2019|  1124|192|          0|short|        69972|\n",
      "|        467|14/10/2021|  1871|189|          1|short|        69972|\n",
      "|        666|18/07/2021|  1687|189|          1| long|        42456|\n",
      "|        675|15/09/2019|   826| 53|          0| long|        32965|\n",
      "+-----------+----------+------+---+-----------+-----+-------------+\n",
      "only showing top 10 rows\n",
      "\n"
     ]
    }
   ],
   "source": [
    "print(df.schema)\n",
    "df.show(10)"
   ]
  },
  {
   "cell_type": "code",
   "execution_count": 6,
   "id": "5489d51e-558e-4720-8fb0-77604ee5bab0",
   "metadata": {},
   "outputs": [
    {
     "name": "stdout",
     "output_type": "stream",
     "text": [
      "+-----------+----------+------+---+-----------+-----+-------------+----------+\n",
      "|customer_ID| loan_date|amount|fee|loan_status| term|annual_income|      date|\n",
      "+-----------+----------+------+---+-----------+-----+-------------+----------+\n",
      "|        124|23/06/2021|   785|173|          0|short|        69246|2021-06-23|\n",
      "|        125|  2/3/2020|  2626|124|          0|short|        77110|2020-03-02|\n",
      "|        296|17/08/2020|  2003| 24|          0|short|        41557|2020-08-17|\n",
      "|        447|18/12/2019|   438|168|          1| long|        62868|2019-12-18|\n",
      "|        451|  9/1/2020|   284|169|          1|short|        51834|2020-01-09|\n",
      "|        467| 9/10/2020|  2995|140|          0| long|        69972|2020-10-09|\n",
      "|        467|26/04/2019|  1124|192|          0|short|        69972|2019-04-26|\n",
      "|        467|14/10/2021|  1871|189|          1|short|        69972|2021-10-14|\n",
      "|        666|18/07/2021|  1687|189|          1| long|        42456|2021-07-18|\n",
      "|        675|15/09/2019|   826| 53|          0| long|        32965|2019-09-15|\n",
      "|        675|31/08/2021|  1425|199|          1| long|        32965|2021-08-31|\n",
      "|        675|27/01/2021|  2678|100|          0| long|        32965|2021-01-27|\n",
      "|        691|  9/6/2020|   188| 80|          0| long|        44557|2020-06-09|\n",
      "|        800|  8/4/2019|  1691| 22|          0| long|        49583|2019-04-08|\n",
      "|        829|29/07/2019|  2905| 54|          0|short|        39613|2019-07-29|\n",
      "|        853|23/12/2021|  1603|139|          0| long|        79823|2021-12-23|\n",
      "|        870|  3/9/2021|  2892| 46|          0| long|        54335|2021-09-03|\n",
      "|        919|18/10/2019|   453| 62|          1| long|        79307|2019-10-18|\n",
      "|        919| 11/1/2019|  1306| 24|          1| long|        79307|2019-01-11|\n",
      "|        926|20/01/2022|   926| 35|          1|short|        56935|2022-01-20|\n",
      "+-----------+----------+------+---+-----------+-----+-------------+----------+\n",
      "only showing top 20 rows\n",
      "\n"
     ]
    }
   ],
   "source": [
    "from datetime import datetime\n",
    "from pyspark.sql.functions import col, udf\n",
    "from pyspark.sql.types import DateType\n",
    "\n",
    "func =  udf (lambda x: datetime.strptime(x, '%d/%m/%Y'), DateType())\n",
    "\n",
    "df = df.withColumn('date', func(col('loan_date')))\n",
    "\n",
    "df.show()"
   ]
  },
  {
   "cell_type": "code",
   "execution_count": 7,
   "id": "f98cdbac-492e-4769-a73a-6a1a9ed3a57c",
   "metadata": {},
   "outputs": [],
   "source": [
    "df = df.withColumn(\"date\", df[\"date\"].cast(DateType()))\n",
    "\n",
    "# Extract relevant date components (day, month, year)\n",
    "df = df.withColumn(\"day\", dayofmonth(\"date\"))\n",
    "df = df.withColumn(\"month\", month(\"date\"))\n",
    "df = df.withColumn(\"year\", year(\"date\"))"
   ]
  },
  {
   "cell_type": "code",
   "execution_count": 8,
   "id": "b0caba06-85ff-43f3-a07b-210440bae11f",
   "metadata": {},
   "outputs": [
    {
     "name": "stdout",
     "output_type": "stream",
     "text": [
      "+-----------+----------+------+---+-----------+-----+-------------+----------+---+-----+----+\n",
      "|customer_ID| loan_date|amount|fee|loan_status| term|annual_income|      date|day|month|year|\n",
      "+-----------+----------+------+---+-----------+-----+-------------+----------+---+-----+----+\n",
      "|        124|23/06/2021|   785|173|          0|short|        69246|2021-06-23| 23|    6|2021|\n",
      "|        125|  2/3/2020|  2626|124|          0|short|        77110|2020-03-02|  2|    3|2020|\n",
      "|        296|17/08/2020|  2003| 24|          0|short|        41557|2020-08-17| 17|    8|2020|\n",
      "|        447|18/12/2019|   438|168|          1| long|        62868|2019-12-18| 18|   12|2019|\n",
      "|        451|  9/1/2020|   284|169|          1|short|        51834|2020-01-09|  9|    1|2020|\n",
      "|        467| 9/10/2020|  2995|140|          0| long|        69972|2020-10-09|  9|   10|2020|\n",
      "|        467|26/04/2019|  1124|192|          0|short|        69972|2019-04-26| 26|    4|2019|\n",
      "|        467|14/10/2021|  1871|189|          1|short|        69972|2021-10-14| 14|   10|2021|\n",
      "|        666|18/07/2021|  1687|189|          1| long|        42456|2021-07-18| 18|    7|2021|\n",
      "|        675|15/09/2019|   826| 53|          0| long|        32965|2019-09-15| 15|    9|2019|\n",
      "|        675|31/08/2021|  1425|199|          1| long|        32965|2021-08-31| 31|    8|2021|\n",
      "|        675|27/01/2021|  2678|100|          0| long|        32965|2021-01-27| 27|    1|2021|\n",
      "|        691|  9/6/2020|   188| 80|          0| long|        44557|2020-06-09|  9|    6|2020|\n",
      "|        800|  8/4/2019|  1691| 22|          0| long|        49583|2019-04-08|  8|    4|2019|\n",
      "|        829|29/07/2019|  2905| 54|          0|short|        39613|2019-07-29| 29|    7|2019|\n",
      "|        853|23/12/2021|  1603|139|          0| long|        79823|2021-12-23| 23|   12|2021|\n",
      "|        870|  3/9/2021|  2892| 46|          0| long|        54335|2021-09-03|  3|    9|2021|\n",
      "|        919|18/10/2019|   453| 62|          1| long|        79307|2019-10-18| 18|   10|2019|\n",
      "|        919| 11/1/2019|  1306| 24|          1| long|        79307|2019-01-11| 11|    1|2019|\n",
      "|        926|20/01/2022|   926| 35|          1|short|        56935|2022-01-20| 20|    1|2022|\n",
      "+-----------+----------+------+---+-----------+-----+-------------+----------+---+-----+----+\n",
      "only showing top 20 rows\n",
      "\n"
     ]
    }
   ],
   "source": [
    "df.show()"
   ]
  },
  {
   "cell_type": "code",
   "execution_count": 9,
   "id": "f81c6f82-fa8e-4171-b879-be8fd54cd412",
   "metadata": {
    "tags": []
   },
   "outputs": [],
   "source": [
    "# Use StringIndexer to index the day, month, and year columns\n",
    "indexer_day = StringIndexer(inputCol=\"day\", outputCol=\"day_index\")\n",
    "indexer_month = StringIndexer(inputCol=\"month\", outputCol=\"month_index\")\n",
    "indexer_year = StringIndexer(inputCol=\"year\", outputCol=\"year_index\")\n",
    "indexer_term = StringIndexer(inputCol=\"term\", outputCol=\"term_index\")\n",
    "\n"
   ]
  },
  {
   "cell_type": "code",
   "execution_count": 10,
   "id": "792cbc83-5437-4f2d-83da-6d5ba7628d71",
   "metadata": {
    "tags": []
   },
   "outputs": [],
   "source": [
    "# Apply OneHotEncoder to the indexed columns\n",
    "encoder = OneHotEncoder(inputCols=[\"day_index\", \"month_index\", \"year_index\", \"term_index\"],\n",
    "                        outputCols=[\"day_encoded\", \"month_encoded\", \"year_encoded\", \"term_encoded\"])"
   ]
  },
  {
   "cell_type": "code",
   "execution_count": 11,
   "id": "ec0a8bcc-85ad-4053-87c8-e9f7f887118b",
   "metadata": {
    "tags": []
   },
   "outputs": [
    {
     "name": "stdout",
     "output_type": "stream",
     "text": [
      "<class 'pyspark.sql.dataframe.DataFrame'>\n"
     ]
    }
   ],
   "source": [
    "print(type(df))\n",
    "df = indexer_day.fit(df).transform(df)\n",
    "df = indexer_month.fit(df).transform(df)\n",
    "df = indexer_year.fit(df).transform(df)\n",
    "df = indexer_term.fit(df).transform(df)"
   ]
  },
  {
   "cell_type": "code",
   "execution_count": 12,
   "id": "68c8a616-d10b-4793-bbc6-ffc741ae858e",
   "metadata": {},
   "outputs": [
    {
     "name": "stdout",
     "output_type": "stream",
     "text": [
      "+-----------+----------+------+---+-----------+-----+-------------+----------+---+-----+----+---------+-----------+----------+----------+---------------+---------------+-------------+-------------+\n",
      "|customer_ID| loan_date|amount|fee|loan_status| term|annual_income|      date|day|month|year|day_index|month_index|year_index|term_index|    day_encoded|  month_encoded| year_encoded| term_encoded|\n",
      "+-----------+----------+------+---+-----------+-----+-------------+----------+---+-----+----+---------+-----------+----------+----------+---------------+---------------+-------------+-------------+\n",
      "|        124|23/06/2021|   785|173|          0|short|        69246|2021-06-23| 23|    6|2021|      4.0|        5.0|       0.0|       0.0| (30,[4],[1.0])| (11,[5],[1.0])|(3,[0],[1.0])|(1,[0],[1.0])|\n",
      "|        125|  2/3/2020|  2626|124|          0|short|        77110|2020-03-02|  2|    3|2020|     12.0|        8.0|       2.0|       0.0|(30,[12],[1.0])| (11,[8],[1.0])|(3,[2],[1.0])|(1,[0],[1.0])|\n",
      "|        296|17/08/2020|  2003| 24|          0|short|        41557|2020-08-17| 17|    8|2020|      3.0|       11.0|       2.0|       0.0| (30,[3],[1.0])|     (11,[],[])|(3,[2],[1.0])|(1,[0],[1.0])|\n",
      "|        447|18/12/2019|   438|168|          1| long|        62868|2019-12-18| 18|   12|2019|      1.0|       10.0|       1.0|       1.0| (30,[1],[1.0])|(11,[10],[1.0])|(3,[1],[1.0])|    (1,[],[])|\n",
      "|        451|  9/1/2020|   284|169|          1|short|        51834|2020-01-09|  9|    1|2020|      5.0|        2.0|       2.0|       0.0| (30,[5],[1.0])| (11,[2],[1.0])|(3,[2],[1.0])|(1,[0],[1.0])|\n",
      "|        467| 9/10/2020|  2995|140|          0| long|        69972|2020-10-09|  9|   10|2020|      5.0|        3.0|       2.0|       1.0| (30,[5],[1.0])| (11,[3],[1.0])|(3,[2],[1.0])|    (1,[],[])|\n",
      "|        467|26/04/2019|  1124|192|          0|short|        69972|2019-04-26| 26|    4|2019|      2.0|        4.0|       1.0|       0.0| (30,[2],[1.0])| (11,[4],[1.0])|(3,[1],[1.0])|(1,[0],[1.0])|\n",
      "|        467|14/10/2021|  1871|189|          1|short|        69972|2021-10-14| 14|   10|2021|     25.0|        3.0|       0.0|       0.0|(30,[25],[1.0])| (11,[3],[1.0])|(3,[0],[1.0])|(1,[0],[1.0])|\n",
      "|        666|18/07/2021|  1687|189|          1| long|        42456|2021-07-18| 18|    7|2021|      1.0|        1.0|       0.0|       1.0| (30,[1],[1.0])| (11,[1],[1.0])|(3,[0],[1.0])|    (1,[],[])|\n",
      "|        675|15/09/2019|   826| 53|          0| long|        32965|2019-09-15| 15|    9|2019|     11.0|        7.0|       1.0|       1.0|(30,[11],[1.0])| (11,[7],[1.0])|(3,[1],[1.0])|    (1,[],[])|\n",
      "|        675|31/08/2021|  1425|199|          1| long|        32965|2021-08-31| 31|    8|2021|      9.0|       11.0|       0.0|       1.0| (30,[9],[1.0])|     (11,[],[])|(3,[0],[1.0])|    (1,[],[])|\n",
      "|        675|27/01/2021|  2678|100|          0| long|        32965|2021-01-27| 27|    1|2021|      6.0|        2.0|       0.0|       1.0| (30,[6],[1.0])| (11,[2],[1.0])|(3,[0],[1.0])|    (1,[],[])|\n",
      "|        691|  9/6/2020|   188| 80|          0| long|        44557|2020-06-09|  9|    6|2020|      5.0|        5.0|       2.0|       1.0| (30,[5],[1.0])| (11,[5],[1.0])|(3,[2],[1.0])|    (1,[],[])|\n",
      "|        800|  8/4/2019|  1691| 22|          0| long|        49583|2019-04-08|  8|    4|2019|     30.0|        4.0|       1.0|       1.0|     (30,[],[])| (11,[4],[1.0])|(3,[1],[1.0])|    (1,[],[])|\n",
      "|        829|29/07/2019|  2905| 54|          0|short|        39613|2019-07-29| 29|    7|2019|     15.0|        1.0|       1.0|       0.0|(30,[15],[1.0])| (11,[1],[1.0])|(3,[1],[1.0])|(1,[0],[1.0])|\n",
      "|        853|23/12/2021|  1603|139|          0| long|        79823|2021-12-23| 23|   12|2021|      4.0|       10.0|       0.0|       1.0| (30,[4],[1.0])|(11,[10],[1.0])|(3,[0],[1.0])|    (1,[],[])|\n",
      "|        870|  3/9/2021|  2892| 46|          0| long|        54335|2021-09-03|  3|    9|2021|      7.0|        7.0|       0.0|       1.0| (30,[7],[1.0])| (11,[7],[1.0])|(3,[0],[1.0])|    (1,[],[])|\n",
      "|        919|18/10/2019|   453| 62|          1| long|        79307|2019-10-18| 18|   10|2019|      1.0|        3.0|       1.0|       1.0| (30,[1],[1.0])| (11,[3],[1.0])|(3,[1],[1.0])|    (1,[],[])|\n",
      "|        919| 11/1/2019|  1306| 24|          1| long|        79307|2019-01-11| 11|    1|2019|     10.0|        2.0|       1.0|       1.0|(30,[10],[1.0])| (11,[2],[1.0])|(3,[1],[1.0])|    (1,[],[])|\n",
      "|        926|20/01/2022|   926| 35|          1|short|        56935|2022-01-20| 20|    1|2022|     13.0|        2.0|       3.0|       0.0|(30,[13],[1.0])| (11,[2],[1.0])|    (3,[],[])|(1,[0],[1.0])|\n",
      "+-----------+----------+------+---+-----------+-----+-------------+----------+---+-----+----+---------+-----------+----------+----------+---------------+---------------+-------------+-------------+\n",
      "only showing top 20 rows\n",
      "\n"
     ]
    }
   ],
   "source": [
    "model = encoder.fit(df)\n",
    "df_encoded = model.transform(df)\n",
    "output_path = \"output.parquet\"\n",
    "df_encoded.select(\"customer_ID\",\"day_encoded\", \"month_encoded\", \"year_encoded\", \"amount\", \"fee\", \"loan_status\", \"term_encoded).write.parquet(output_path, mode=\"overwrite\")\n",
    "# Show the resulting DataFrame\n",
    "df_encoded.show()"
   ]
  },
  {
   "cell_type": "code",
   "execution_count": null,
   "id": "ad515001-23a6-45a7-9f05-c220c3cfccbe",
   "metadata": {},
   "outputs": [],
   "source": []
  }
 ],
 "metadata": {
  "kernelspec": {
   "display_name": "Python 3 (ipykernel)",
   "language": "python",
   "name": "python3"
  },
  "language_info": {
   "codemirror_mode": {
    "name": "ipython",
    "version": 3
   },
   "file_extension": ".py",
   "mimetype": "text/x-python",
   "name": "python",
   "nbconvert_exporter": "python",
   "pygments_lexer": "ipython3",
   "version": "3.9.13"
  }
 },
 "nbformat": 4,
 "nbformat_minor": 5
}
